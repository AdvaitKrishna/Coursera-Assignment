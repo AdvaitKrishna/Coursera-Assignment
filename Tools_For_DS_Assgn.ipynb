{
 "cells": [
  {
   "cell_type": "markdown",
   "id": "ecce091a",
   "metadata": {},
   "source": [
    "# Tools_for_DataScience"
   ]
  },
  {
   "cell_type": "markdown",
   "id": "cd295ff3",
   "metadata": {},
   "source": [
    "# This is my Jupyter Notebook for the assignment related to Tools for Data Science"
   ]
  },
  {
   "cell_type": "markdown",
   "id": "8d23f7c2",
   "metadata": {},
   "source": [
    "# Python R SQL Julia Java C/C++ Scala JavaScript Swift Go MATLAB SAS"
   ]
  },
  {
   "cell_type": "markdown",
   "id": "9890eba6",
   "metadata": {},
   "source": [
    "# Pandas NumPy SciPy Scikit-learn TensorFlow Keras Matplotlib Seaborn Plotly GGplot "
   ]
  },
  {
   "cell_type": "markdown",
   "id": "ff8f122d",
   "metadata": {},
   "source": [
    "# Apache Spark\n",
    "# Jupyter Notebook\n",
    "# Apache Hadoop\n",
    "# Tableau\n",
    "# Statistical Analysis System (SAS)\n",
    "# TensorFlow\n",
    "# BigML"
   ]
  },
  {
   "cell_type": "markdown",
   "id": "e5502cb3",
   "metadata": {},
   "source": [
    "# 2+3*6 \n"
   ]
  },
  {
   "cell_type": "code",
   "execution_count": 1,
   "id": "557c6ece",
   "metadata": {},
   "outputs": [
    {
     "name": "stdout",
     "output_type": "stream",
     "text": [
      "41\n"
     ]
    }
   ],
   "source": [
    "a = 5\n",
    "b = 6\n",
    "result = a + b * b\n",
    "print(result)"
   ]
  },
  {
   "cell_type": "code",
   "execution_count": 4,
   "id": "d7c5f003",
   "metadata": {},
   "outputs": [
    {
     "name": "stdout",
     "output_type": "stream",
     "text": [
      "60.0\n"
     ]
    }
   ],
   "source": [
    "\n",
    "time_min = 3600\n",
    "time_hours = time_min/60\n",
    "print(time_hours)"
   ]
  },
  {
   "cell_type": "markdown",
   "id": "6740001a",
   "metadata": {},
   "source": [
    "# My objectives is to learn data science and become a successful Data Scientist in future"
   ]
  },
  {
   "cell_type": "markdown",
   "id": "cd2b083a",
   "metadata": {},
   "source": [
    "# Advait Krishna"
   ]
  },
  {
   "cell_type": "code",
   "execution_count": null,
   "id": "2624132b",
   "metadata": {},
   "outputs": [],
   "source": []
  }
 ],
 "metadata": {
  "kernelspec": {
   "display_name": "Python 3 (ipykernel)",
   "language": "python",
   "name": "python3"
  },
  "language_info": {
   "codemirror_mode": {
    "name": "ipython",
    "version": 3
   },
   "file_extension": ".py",
   "mimetype": "text/x-python",
   "name": "python",
   "nbconvert_exporter": "python",
   "pygments_lexer": "ipython3",
   "version": "3.11.5"
  }
 },
 "nbformat": 4,
 "nbformat_minor": 5
}
